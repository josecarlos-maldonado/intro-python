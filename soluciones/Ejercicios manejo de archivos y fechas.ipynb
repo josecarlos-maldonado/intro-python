{
 "cells": [
  {
   "cell_type": "markdown",
   "metadata": {},
   "source": [
    "<h3 style=\"color:crimson\"> Ejercicio </h3>\n",
    "\n",
    "1. Crea la función `timestep(init_date, n)` tal que, dada una fecha inicial y  $n$ días de duración, calcule la fecha hábil final, ajustando la fecha un día después si al final de $n$ días se obtiene un día inhábil o un fin de semana. Para lograr esto, lee el archivo `../files/lec07/holidays.txt`\n",
    "\n",
    "\n",
    "Considera cualquier fecha entre 1/1/10 y 12/25/50."
   ]
  },
  {
   "cell_type": "code",
   "execution_count": 11,
   "metadata": {},
   "outputs": [],
   "source": [
    "from datetime import datetime, timedelta"
   ]
  },
  {
   "cell_type": "code",
   "execution_count": 12,
   "metadata": {},
   "outputs": [],
   "source": [
    "def lee_festivos(path = './files/lec07/holidays.txt'):\n",
    "    '''\n",
    "    Función para leer las fechas del archivo holidays.txt\n",
    "    \n",
    "    ENTRADA\n",
    "    path: String con la ruta del archivo txt\n",
    "    \n",
    "    SALIDA\n",
    "    lista de objetos datetime.datetime cada uno representando una fecha del txt\n",
    "    '''\n",
    "    \n",
    "    #Lee el archivo txt\n",
    "    with open(path, 'r') as f:\n",
    "        festivos = f.readlines()\n",
    "    \n",
    "    #Elimina la secuencia de escape '\\n'\n",
    "    #Después convierte a objeto datetime\n",
    "    for i in range(len(festivos)):\n",
    "        festivos[i] = festivos[i].replace('\\n','')\n",
    "        festivos[i] = datetime.strptime(festivos[i], '%m/%d/%y')\n",
    "        \n",
    "    return festivos"
   ]
  },
  {
   "cell_type": "code",
   "execution_count": 13,
   "metadata": {},
   "outputs": [],
   "source": [
    "def timestep(init_date, n = 1, festivos = []):\n",
    "    '''\n",
    "    Función para calcular el primer día hábil después de haber transcurrido n días\n",
    "    iniciando en una fecha inicial\n",
    "    \n",
    "    ENTRADA\n",
    "    init_date: String en formato yyyy/mm/dd.\n",
    "    \n",
    "    festivos: Lista de objetos datetime con los días festivos.\n",
    "    \n",
    "    n: Entero\n",
    "    \n",
    "    SALIDA\n",
    "    objeto datetime\n",
    "    '''\n",
    "    \n",
    "    #Primero convierte la fecha inicial en un objeto datetime\n",
    "    init_date = datetime.strptime(init_date, '%Y/%m/%d')\n",
    "    \n",
    "    #Fecha final (sin ajustes)\n",
    "    end_date = init_date + timedelta(days = n)\n",
    "    \n",
    "    while end_date.weekday() in [5,6] or end_date in festivos:\n",
    "        end_date = end_date + timedelta(days = 1)\n",
    "        \n",
    "    return end_date    "
   ]
  },
  {
   "cell_type": "code",
   "execution_count": 14,
   "metadata": {},
   "outputs": [
    {
     "name": "stdout",
     "output_type": "stream",
     "text": [
      "2010-01-04 00:00:00\n",
      "2010-01-04 00:00:00\n",
      "2018-01-02 00:00:00\n",
      "2018-02-21 00:00:00\n"
     ]
    }
   ],
   "source": [
    "'''\n",
    ">>> timestep(datetime(2009, 12, 31), 1)\n",
    "datetime.datetime(2010, 1, 4, 0, 0)\n",
    "\n",
    ">>> timestep(datetime(2009, 12, 31), 2)\n",
    "datetime.datetime(2010, 1, 4, 0, 0)\n",
    "\n",
    ">>> timestep(datetime(2017, 12, 26), 4)\n",
    "datetime.datetime(2018, 1, 2, 0, 0)\n",
    "\n",
    ">>> timestep(datetime(2018, 2, 19), 2)\n",
    "datetime.datetime(2018, 2, 21, 0, 0)\n",
    "'''\n",
    "festivos = lee_festivos()\n",
    "print(timestep('2009/12/31', 1, festivos))\n",
    "print(timestep('2009/12/31', 2, festivos))\n",
    "print(timestep('2017/12/26', 4, festivos))\n",
    "print(timestep('2018/02/19', 2, festivos))"
   ]
  },
  {
   "cell_type": "markdown",
   "metadata": {},
   "source": [
    "<h3 style=\"color:crimson\"> Ejercicio </h3>\n",
    "\n",
    "2. Usando el archivo `6m_rates.csv`, crear el diccionario `tasas` donde las llaves sean las fechas (`datetime.datetime`) y los valores (`float`) las tasas a esa fecha.\n",
    "\n",
    "```python\n",
    ">>>tasas[datetime(2017, 2, 1)]\n",
    "2.58\n",
    ">>>tasas[datetime(2013, 4, 1)]\n",
    "1.9\n",
    "```"
   ]
  },
  {
   "cell_type": "code",
   "execution_count": 15,
   "metadata": {},
   "outputs": [
    {
     "name": "stdout",
     "output_type": "stream",
     "text": [
      "['1977/05,13\\n', '1977/06,13\\n', '1977/07,13\\n', '1977/08,13\\n', '1977/09,13\\n']\n"
     ]
    }
   ],
   "source": [
    "def lee_csv(path = './files/lec07/6m_rates.csv'):\n",
    "    '''\n",
    "    Función que crea una lista de strings con la información del archivo 6m_rates.csv\n",
    "    \n",
    "    ENTRADA\n",
    "    path: String que indica la ruta en del archivo 6m_rates.csv\n",
    "    \n",
    "    SALIDA\n",
    "    lista de strings con la información del archivo 6m_rates.csv\n",
    "    '''\n",
    "\n",
    "    with open(path, 'r') as f:\n",
    "        contenido = f.readlines()\n",
    "    \n",
    "    #Quita la línea de los encabezados\n",
    "    contenido = contenido[1:]\n",
    "    return contenido\n",
    "\n",
    "lista_tasas = lee_csv()\n",
    "print(lista_tasas[0:5])"
   ]
  },
  {
   "cell_type": "code",
   "execution_count": 16,
   "metadata": {},
   "outputs": [],
   "source": [
    "def obten_diccionario(lista_tasas):\n",
    "    tasas = {}\n",
    "    \n",
    "    for e in lista_tasas:\n",
    "        \n",
    "        #Elimina '\\n'\n",
    "        e = e.replace('\\n','')\n",
    "        \n",
    "        #Obtiene la fecha y el valor de la tasa\n",
    "        fecha, valor = e.split(',')\n",
    "        \n",
    "        #Convierte la fecha a datetime\n",
    "        fecha = datetime.strptime(fecha, '%Y/%m')\n",
    "        \n",
    "        #Agrega al diccionario\n",
    "        if fecha not in tasas.keys():\n",
    "            tasas[fecha] = float(valor)\n",
    "            \n",
    "    return tasas    "
   ]
  },
  {
   "cell_type": "code",
   "execution_count": 17,
   "metadata": {},
   "outputs": [
    {
     "name": "stdout",
     "output_type": "stream",
     "text": [
      "2.58\n",
      "1.9\n"
     ]
    }
   ],
   "source": [
    "tasas = obten_diccionario(lista_tasas)\n",
    "print(tasas[datetime(2017, 2, 1)])\n",
    "print(tasas[datetime(2013, 4, 1)])"
   ]
  },
  {
   "cell_type": "code",
   "execution_count": null,
   "metadata": {},
   "outputs": [],
   "source": []
  },
  {
   "cell_type": "code",
   "execution_count": null,
   "metadata": {},
   "outputs": [],
   "source": [
    "ruta = ''"
   ]
  }
 ],
 "metadata": {
  "kernelspec": {
   "display_name": "Python 3",
   "language": "python",
   "name": "python3"
  },
  "language_info": {
   "codemirror_mode": {
    "name": "ipython",
    "version": 3
   },
   "file_extension": ".py",
   "mimetype": "text/x-python",
   "name": "python",
   "nbconvert_exporter": "python",
   "pygments_lexer": "ipython3",
   "version": "3.7.3"
  }
 },
 "nbformat": 4,
 "nbformat_minor": 4
}
