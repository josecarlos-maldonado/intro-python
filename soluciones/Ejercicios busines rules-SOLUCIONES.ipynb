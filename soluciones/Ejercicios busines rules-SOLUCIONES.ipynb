{
 "cells": [
  {
   "cell_type": "markdown",
   "metadata": {},
   "source": [
    "# Ejercicio 1\n",
    "\n",
    "## Following business day rule\n",
    "\n",
    "Cuando la fecha de un pago cae en fin de semana o día festivo, esta fecha es ajustada para que sea el día hábil siguiente más cercano.\n",
    "\n",
    "Programe una función que haga dicho ajuste.\n",
    "\n",
    "```python\n",
    "def following_day_rule(fecha = '2019/11/01', festivos = ['2019/11/01']):\n",
    "```\n",
    "\n",
    "* Fecha de pago 2019/11/01\n",
    "* Día festivo 2019/11/01\n",
    "* Fecha ajustada 2019/11/04"
   ]
  },
  {
   "cell_type": "code",
   "execution_count": null,
   "metadata": {},
   "outputs": [],
   "source": [
    "from datetime import datetime, timedelta\n",
    "#import datetime as dt\n",
    "#dt.datetime.strptime\n",
    "\n",
    "############ EJERCICIO 1 ##########################\n",
    "#A manera de ejemplo supongamos que este día\n",
    "#es un día festivo\n",
    "festivo = datetime.strptime('2019/11/01', '%Y/%m/%d')\n",
    "festivos = [festivo]\n",
    "\n",
    "def following_day_rule(fecha = '2019/11/01', festivos = []):\n",
    "    #convierte  a datetime\n",
    "    fecha = datetime.strptime(fecha, '%Y/%m/%d')\n",
    "    \n",
    "    while fecha.weekday() in [5,6] or fecha in festivos:\n",
    "        fecha = fecha + timedelta(days = 1)\n",
    "    return fecha    \n",
    "\n",
    "following_day_rule(festivos = festivos)"
   ]
  },
  {
   "cell_type": "markdown",
   "metadata": {},
   "source": [
    "# Ejercicio 2\n",
    "\n",
    "## Modified following business day rule\n",
    "\n",
    "Cuando la fecha de un pago es un fin de semana o día festivo, esta fecha es ajustada para que sea el día hábil siguiente más cercano. Sin embargo, si dicho día no está dentro del mismo mes, entonces la fecha se ajusta para que sea el día hábil anterior más cercano a la fecha de pago.\n",
    "\n",
    "Programe una función que haga dicho ajuste.\n",
    "\n",
    "```python\n",
    "def mod_foll_rule(fecha = '2019/11/29', festivos = ['2019/11/29']):\n",
    "```\n",
    "\n",
    "* Fecha de pago 2019/11/29\n",
    "* Día festivo 2019/11/29\n",
    "* Fecha ajustada 2019/11/28"
   ]
  },
  {
   "cell_type": "code",
   "execution_count": null,
   "metadata": {},
   "outputs": [],
   "source": [
    "festivo = datetime.strptime('2019/11/29', '%Y/%m/%d')\n",
    "festivos = [festivo]\n",
    "def mod_foll_rule(fecha = '2019/11/29', festivos=[]):\n",
    "    \n",
    "    fecha_dt = datetime.strptime(fecha, '%Y/%m/%d')\n",
    "    \n",
    "    #Primero aplica following_day_rule\n",
    "    nueva_fecha = following_day_rule(fecha, festivos)\n",
    "    \n",
    "    if nueva_fecha.month == fecha_dt.month:\n",
    "        return nueva_fecha\n",
    "    else:\n",
    "        while nueva_fecha.month != fecha_dt.month or nueva_fecha.weekday() in [5,6] or nueva_fecha in festivos:\n",
    "            nueva_fecha = nueva_fecha - timedelta(days = 1)\n",
    "        return nueva_fecha\n",
    "\n",
    "mod_foll_rule(festivos = festivos)"
   ]
  },
  {
   "cell_type": "markdown",
   "metadata": {},
   "source": [
    "# Ejercicio 3\n",
    "\n",
    "## Preceding business day rule\n",
    "\n",
    "Cuando la fecha de pago es un fin de semana o día festivo, esta fecha es ajustada para que sea el día hábil anterior más cercano.\n",
    "\n",
    "Programe una función que haga dicho ajuste.\n",
    "\n",
    "```python\n",
    "def pre_day_rule(fecha = '2019/11/01', festivos = ['2019/11/01']):\n",
    "```\n",
    "\n",
    "* Fecha de pago 2019/11/04\n",
    "* Festivos 2019/11/01 y 2019/11/04\n",
    "* Fecha ajustada 2019/10/31"
   ]
  },
  {
   "cell_type": "code",
   "execution_count": null,
   "metadata": {},
   "outputs": [],
   "source": [
    "festivo1 = datetime.strptime('2019/11/04', '%Y/%m/%d')\n",
    "festivo2 = datetime.strptime('2019/11/01', '%Y/%m/%d')\n",
    "festivos = [festivo1, festivo2]\n",
    "def pre_day_rule(fecha = '2019/11/04', festivos = []):\n",
    "    nueva_fecha = datetime.strptime(fecha, '%Y/%m/%d')\n",
    "    \n",
    "    while nueva_fecha.weekday() in [5,6] or nueva_fecha in festivos:\n",
    "        nueva_fecha = nueva_fecha - timedelta(days=1)\n",
    "    return nueva_fecha\n",
    "pre_day_rule(festivos = festivos)"
   ]
  },
  {
   "cell_type": "markdown",
   "metadata": {},
   "source": [
    "# Ejercicio 4\n",
    "\n",
    "## Modified preceding business day rule\n",
    "\n",
    "Cuando la fecha de pago es un fin de semana o días festivo, la fecha se ajusta para que sea el día hábil anterior más cercano. Sin embargo, si este día no está dentro del mismo mes, esta fecha se ajusta para que sea el día hábil posterior más cercano a la fecha de pago.\n",
    "\n",
    "```python\n",
    "def mod_pre_day_rule(fecha = '2019/11/01', festivos = ['2019/11/01']):\n",
    "```\n",
    "* Fecha de pago 2019/11/04\n",
    "* Festivos 2019/11/01 y 2019/11/04\n",
    "* Fecha ajustada 2019/11/05\n"
   ]
  },
  {
   "cell_type": "code",
   "execution_count": null,
   "metadata": {},
   "outputs": [],
   "source": [
    "festivo1 = datetime.strptime('2019/11/04', '%Y/%m/%d')\n",
    "festivo2 = datetime.strptime('2019/11/01', '%Y/%m/%d')\n",
    "festivos = [festivo1, festivo2]\n",
    "\n",
    "def mod_pre_day_rule(fecha = '2019/11/04', festivos = []):\n",
    "    fecha_dt = datetime.strptime(fecha, '%Y/%m/%d')\n",
    "    \n",
    "    #Primero aplica pre_day_rule\n",
    "    nueva_fecha = pre_day_rule(fecha, festivos)\n",
    "    \n",
    "    if nueva_fecha.month == fecha_dt.month:\n",
    "        return nueva_fecha\n",
    "    else:\n",
    "        while nueva_fecha.month != fecha_dt.month or nueva_fecha.weekday() in [5,6] or nueva_fecha in festivos:\n",
    "            nueva_fecha = nueva_fecha + timedelta(days = 1)\n",
    "        return nueva_fecha    \n",
    "mod_pre_day_rule(festivos = festivos)   "
   ]
  },
  {
   "cell_type": "code",
   "execution_count": null,
   "metadata": {},
   "outputs": [],
   "source": []
  }
 ],
 "metadata": {
  "kernelspec": {
   "display_name": "Python 3",
   "language": "python",
   "name": "python3"
  },
  "language_info": {
   "codemirror_mode": {
    "name": "ipython",
    "version": 3
   },
   "file_extension": ".py",
   "mimetype": "text/x-python",
   "name": "python",
   "nbconvert_exporter": "python",
   "pygments_lexer": "ipython3",
   "version": "3.7.3"
  }
 },
 "nbformat": 4,
 "nbformat_minor": 4
}
